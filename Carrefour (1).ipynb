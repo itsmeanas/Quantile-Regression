{
 "cells": [
  {
   "cell_type": "code",
   "execution_count": 2,
   "id": "9033d69d",
   "metadata": {},
   "outputs": [
    {
     "name": "stdout",
     "output_type": "stream",
     "text": [
      "Requirement already satisfied: lightgbm in c:\\users\\anasa\\anaconda3\\lib\\site-packages (3.2.1)\n",
      "Requirement already satisfied: scipy in c:\\users\\anasa\\anaconda3\\lib\\site-packages (from lightgbm) (1.6.2)\n",
      "Requirement already satisfied: scikit-learn!=0.22.0 in c:\\users\\anasa\\anaconda3\\lib\\site-packages (from lightgbm) (0.24.1)\n",
      "Requirement already satisfied: wheel in c:\\users\\anasa\\anaconda3\\lib\\site-packages (from lightgbm) (0.36.2)\n",
      "Requirement already satisfied: numpy in c:\\users\\anasa\\anaconda3\\lib\\site-packages (from lightgbm) (1.20.1)\n",
      "Requirement already satisfied: threadpoolctl>=2.0.0 in c:\\users\\anasa\\anaconda3\\lib\\site-packages (from scikit-learn!=0.22.0->lightgbm) (2.1.0)\n",
      "Requirement already satisfied: joblib>=0.11 in c:\\users\\anasa\\anaconda3\\lib\\site-packages (from scikit-learn!=0.22.0->lightgbm) (1.0.1)\n",
      "Note: you may need to restart the kernel to use updated packages.\n"
     ]
    }
   ],
   "source": [
    "pip install lightgbm"
   ]
  },
  {
   "cell_type": "code",
   "execution_count": 16,
   "id": "cd4eb557",
   "metadata": {},
   "outputs": [],
   "source": [
    "from sklearn.datasets import make_regression #Bibliothèque d'apprentissage automatique gratuite en Python\n",
    "import pandas as pd                          #Bibliothèque pour manipuler et afficher la base\n",
    "import matplotlib.pyplot as plt              #Bibliothèque pour visualiser la base\n",
    "import seaborn as sns                        #Bibliothèque de visualisation de données construite sur matplotlib\n",
    "import numpy as np                           #Bibliothèque destinée à manipuler des matrices ou tableaux\n",
    "from sklearn.model_selection import train_test_split \n",
    "from lightgbm import LGBMRegressor"
   ]
  },
  {
   "cell_type": "markdown",
   "id": "d6a5d856",
   "metadata": {},
   "source": [
    "#### train_test_split : Fonction permettant de diviser les tableaux de données en deux sous-ensembles: pour les données d'entraînement et pour les données de test.\n",
    "#### LightGBM, abréviation de Light Gradient Boosting Machine, est un framework d'amplification de gradient distribué gratuit et open source pour l'apprentissage automatique développé à l'origine par Microsoft. Il est basé sur des algorithmes d'arbre de décision et utilisé pour le classement, la classification et d'autres tâches d'apprentissage automatique."
   ]
  },
  {
   "cell_type": "code",
   "execution_count": 4,
   "id": "3c3bbeb8",
   "metadata": {},
   "outputs": [],
   "source": [
    "X, y = make_regression(n_samples=1000,       \n",
    "                n_features=1,\n",
    "                n_informative=1,\n",
    "                n_targets=1)\n",
    "                \n",
    "Xs = pd.DataFrame(X, columns = ['distance'])\n",
    "ys = pd.DataFrame(y, columns = ['temps_de_livraison'])\n",
    "\n",
    "Xs['distance'] = Xs['distance'].apply(lambda x: 10 + 2 * (x + np.random.normal(loc=1))  )\n",
    "ys['temps_de_livraison'] = ys['temps_de_livraison'].apply(lambda x: 60 + 0.3* (x + np.random.normal(loc=1)) )"
   ]
  },
  {
   "cell_type": "markdown",
   "id": "a9843f4d",
   "metadata": {},
   "source": [
    "#### make_regression: Générer un problème de régression aléatoire \n",
    "#### DataFrame représente une table de données avec des lignes et des colonnes"
   ]
  },
  {
   "cell_type": "code",
   "execution_count": 5,
   "id": "96d20453",
   "metadata": {},
   "outputs": [],
   "source": [
    "df = Xs.merge(ys, left_index=True, right_index=True)"
   ]
  },
  {
   "cell_type": "markdown",
   "id": "0bed6074",
   "metadata": {},
   "source": [
    "#### La fonction merge reconnaît que chaque DataFrame a une colonne \"employé\" et se joint automatiquement en utilisant cette colonne comme clé. Le résultat de la fusion est un nouveau DataFrame qui combine les informations des deux entrées."
   ]
  },
  {
   "cell_type": "code",
   "execution_count": 6,
   "id": "f6c2bf5e",
   "metadata": {},
   "outputs": [
    {
     "data": {
      "text/html": [
       "<div>\n",
       "<style scoped>\n",
       "    .dataframe tbody tr th:only-of-type {\n",
       "        vertical-align: middle;\n",
       "    }\n",
       "\n",
       "    .dataframe tbody tr th {\n",
       "        vertical-align: top;\n",
       "    }\n",
       "\n",
       "    .dataframe thead th {\n",
       "        text-align: right;\n",
       "    }\n",
       "</style>\n",
       "<table border=\"1\" class=\"dataframe\">\n",
       "  <thead>\n",
       "    <tr style=\"text-align: right;\">\n",
       "      <th></th>\n",
       "      <th>distance</th>\n",
       "      <th>temps_de_livraison</th>\n",
       "    </tr>\n",
       "  </thead>\n",
       "  <tbody>\n",
       "    <tr>\n",
       "      <th>count</th>\n",
       "      <td>1000.000000</td>\n",
       "      <td>1000.000000</td>\n",
       "    </tr>\n",
       "    <tr>\n",
       "      <th>mean</th>\n",
       "      <td>11.986838</td>\n",
       "      <td>60.433311</td>\n",
       "    </tr>\n",
       "    <tr>\n",
       "      <th>std</th>\n",
       "      <td>2.830319</td>\n",
       "      <td>21.343923</td>\n",
       "    </tr>\n",
       "    <tr>\n",
       "      <th>min</th>\n",
       "      <td>2.743621</td>\n",
       "      <td>-13.133578</td>\n",
       "    </tr>\n",
       "    <tr>\n",
       "      <th>25%</th>\n",
       "      <td>10.103112</td>\n",
       "      <td>46.784105</td>\n",
       "    </tr>\n",
       "    <tr>\n",
       "      <th>50%</th>\n",
       "      <td>11.989952</td>\n",
       "      <td>61.172571</td>\n",
       "    </tr>\n",
       "    <tr>\n",
       "      <th>75%</th>\n",
       "      <td>13.911670</td>\n",
       "      <td>74.822931</td>\n",
       "    </tr>\n",
       "    <tr>\n",
       "      <th>max</th>\n",
       "      <td>23.608066</td>\n",
       "      <td>131.710105</td>\n",
       "    </tr>\n",
       "  </tbody>\n",
       "</table>\n",
       "</div>"
      ],
      "text/plain": [
       "          distance  temps_de_livraison\n",
       "count  1000.000000         1000.000000\n",
       "mean     11.986838           60.433311\n",
       "std       2.830319           21.343923\n",
       "min       2.743621          -13.133578\n",
       "25%      10.103112           46.784105\n",
       "50%      11.989952           61.172571\n",
       "75%      13.911670           74.822931\n",
       "max      23.608066          131.710105"
      ]
     },
     "execution_count": 6,
     "metadata": {},
     "output_type": "execute_result"
    }
   ],
   "source": [
    "df.describe()"
   ]
  },
  {
   "cell_type": "code",
   "execution_count": 7,
   "id": "0a7aab98",
   "metadata": {},
   "outputs": [],
   "source": [
    "train_df, test_df = train_test_split(df, test_size=0.10, shuffle=False)"
   ]
  },
  {
   "cell_type": "markdown",
   "id": "1d40c98f",
   "metadata": {},
   "source": [
    "####  Train/Test est une méthode pour mesurer la précision de votre modèle. Il s'appelle Train/Test car vous divisez l'ensemble de données en deux ensembles : un ensemble d'apprentissage et un ensemble de test. Vous testez le modèle à l'aide de l'ensemble de test. Former le modèle signifie créer le modèle, ici on prends 10% de notre base initial qui est 100 personnes!\n",
    "#### La méthode shuffle() prend une séquence, comme une liste, et réorganise l'ordre des éléments. \n",
    "#### Remarque : Cette méthode modifie la liste d'origine, elle ne renvoie pas de nouvelle liste."
   ]
  },
  {
   "cell_type": "code",
   "execution_count": 8,
   "id": "338f835a",
   "metadata": {},
   "outputs": [],
   "source": [
    "X_train, y_train = train_df[['distance']], train_df[['temps_de_livraison']]\n",
    "X_test, y_test = test_df[['distance']], test_df[['temps_de_livraison']]"
   ]
  },
  {
   "cell_type": "code",
   "execution_count": 9,
   "id": "b47c49f0",
   "metadata": {},
   "outputs": [
    {
     "data": {
      "image/png": "[encoded data removed]",
      "text/plain": [
       "<Figure size 600x400 with 1 Axes>"
      ]
     },
     "metadata": {
      "needs_background": "light"
     },
     "output_type": "display_data"
    }
   ],
   "source": [
    "plt.rcParams.update({'font.size': 10, 'figure.dpi':100})\n",
    "sns.scatterplot(data=test_df, x=\"distance\", y=\"temps_de_livraison\", marker='+')\n",
    "plt.grid(linestyle='-', linewidth=0.2)"
   ]
  },
  {
   "cell_type": "code",
   "execution_count": 10,
   "id": "7dd62867",
   "metadata": {},
   "outputs": [],
   "source": [
    "classifiers = {}\n",
    "for tau in [0.1, 0.5, 0.9]:\n",
    "    clf = LGBMRegressor(objective='quantile', alpha=tau)\n",
    "    clf.fit(X_train, y_train)\n",
    "    preds = pd.DataFrame(clf.predict(X_test), columns = [str(tau)])\n",
    "    classifiers[str(tau)] = {'clf': clf, 'predictions': preds}"
   ]
  },
  {
   "cell_type": "markdown",
   "id": "d4c7c848",
   "metadata": {},
   "source": [
    "#### Les classificateurs d'apprentissage automatique peuvent être utilisés pour prédire. À partir de données d'exemple (mesures), l'algorithme peut prédire la classe à laquelle appartiennent les données.\n",
    "\n",
    "#### LGBMRegressor peut également être importé pour un modèle de régression de lightgbm ."
   ]
  },
  {
   "cell_type": "code",
   "execution_count": 11,
   "id": "3f33f135",
   "metadata": {},
   "outputs": [],
   "source": [
    "data = pd.DataFrame({'distance': X_test.reset_index()['distance'],\n",
    "              '0.1': classifiers['0.1']['predictions']['0.1'],\n",
    "              '0.5': classifiers['0.5']['predictions']['0.5'],\n",
    "              '0.9': classifiers['0.9']['predictions']['0.9'],\n",
    "              'temps_de_livraison': y_test.reset_index()['temps_de_livraison']})"
   ]
  },
  {
   "cell_type": "code",
   "execution_count": 12,
   "id": "3f880cf4",
   "metadata": {},
   "outputs": [
    {
     "data": {
      "text/html": [
       "<div>\n",
       "<style scoped>\n",
       "    .dataframe tbody tr th:only-of-type {\n",
       "        vertical-align: middle;\n",
       "    }\n",
       "\n",
       "    .dataframe tbody tr th {\n",
       "        vertical-align: top;\n",
       "    }\n",
       "\n",
       "    .dataframe thead th {\n",
       "        text-align: right;\n",
       "    }\n",
       "</style>\n",
       "<table border=\"1\" class=\"dataframe\">\n",
       "  <thead>\n",
       "    <tr style=\"text-align: right;\">\n",
       "      <th></th>\n",
       "      <th>distance</th>\n",
       "      <th>0.1</th>\n",
       "      <th>0.5</th>\n",
       "      <th>0.9</th>\n",
       "      <th>temps_de_livraison</th>\n",
       "    </tr>\n",
       "  </thead>\n",
       "  <tbody>\n",
       "    <tr>\n",
       "      <th>73</th>\n",
       "      <td>13.942813</td>\n",
       "      <td>56.034801</td>\n",
       "      <td>75.169169</td>\n",
       "      <td>82.222106</td>\n",
       "      <td>55.757449</td>\n",
       "    </tr>\n",
       "    <tr>\n",
       "      <th>78</th>\n",
       "      <td>10.239390</td>\n",
       "      <td>35.111224</td>\n",
       "      <td>42.980721</td>\n",
       "      <td>71.657879</td>\n",
       "      <td>58.177668</td>\n",
       "    </tr>\n",
       "  </tbody>\n",
       "</table>\n",
       "</div>"
      ],
      "text/plain": [
       "     distance        0.1        0.5        0.9  temps_de_livraison\n",
       "73  13.942813  56.034801  75.169169  82.222106           55.757449\n",
       "78  10.239390  35.111224  42.980721  71.657879           58.177668"
      ]
     },
     "execution_count": 12,
     "metadata": {},
     "output_type": "execute_result"
    }
   ],
   "source": [
    "data.sample(2)"
   ]
  },
  {
   "cell_type": "markdown",
   "id": "0d67e213",
   "metadata": {},
   "source": [
    "#### sample () est une fonction intégrée du module aléatoire en Python qui renvoie une liste de longueur particulière d'éléments choisis dans la séquence, c'est-à-dire liste, tuple, chaîne ou ensemble."
   ]
  },
  {
   "cell_type": "code",
   "execution_count": 13,
   "id": "8892eb72",
   "metadata": {},
   "outputs": [],
   "source": [
    "melted_data = pd.melt(data, id_vars=['distance'])"
   ]
  },
  {
   "cell_type": "markdown",
   "id": "f0789001",
   "metadata": {},
   "source": [
    "#### La fonction melt () est utile pour masser un DataFrame dans un format où une ou plusieurs colonnes sont des variables d'identification, tandis que toutes les autres colonnes, considérées comme des variables mesurées, ne sont pas pivotées sur l'axe des lignes, ne laissant que deux colonnes non identifiantes, variable et valeur"
   ]
  },
  {
   "cell_type": "code",
   "execution_count": 14,
   "id": "65fe2f8c",
   "metadata": {},
   "outputs": [
    {
     "data": {
      "text/html": [
       "<div>\n",
       "<style scoped>\n",
       "    .dataframe tbody tr th:only-of-type {\n",
       "        vertical-align: middle;\n",
       "    }\n",
       "\n",
       "    .dataframe tbody tr th {\n",
       "        vertical-align: top;\n",
       "    }\n",
       "\n",
       "    .dataframe thead th {\n",
       "        text-align: right;\n",
       "    }\n",
       "</style>\n",
       "<table border=\"1\" class=\"dataframe\">\n",
       "  <thead>\n",
       "    <tr style=\"text-align: right;\">\n",
       "      <th></th>\n",
       "      <th>distance</th>\n",
       "      <th>variable</th>\n",
       "      <th>value</th>\n",
       "    </tr>\n",
       "  </thead>\n",
       "  <tbody>\n",
       "    <tr>\n",
       "      <th>0</th>\n",
       "      <td>13.028525</td>\n",
       "      <td>0.1</td>\n",
       "      <td>38.566709</td>\n",
       "    </tr>\n",
       "    <tr>\n",
       "      <th>1</th>\n",
       "      <td>5.372767</td>\n",
       "      <td>0.1</td>\n",
       "      <td>4.906025</td>\n",
       "    </tr>\n",
       "    <tr>\n",
       "      <th>2</th>\n",
       "      <td>7.878491</td>\n",
       "      <td>0.1</td>\n",
       "      <td>19.353018</td>\n",
       "    </tr>\n",
       "    <tr>\n",
       "      <th>3</th>\n",
       "      <td>5.979299</td>\n",
       "      <td>0.1</td>\n",
       "      <td>4.906025</td>\n",
       "    </tr>\n",
       "    <tr>\n",
       "      <th>4</th>\n",
       "      <td>9.181638</td>\n",
       "      <td>0.1</td>\n",
       "      <td>17.018660</td>\n",
       "    </tr>\n",
       "    <tr>\n",
       "      <th>...</th>\n",
       "      <td>...</td>\n",
       "      <td>...</td>\n",
       "      <td>...</td>\n",
       "    </tr>\n",
       "    <tr>\n",
       "      <th>395</th>\n",
       "      <td>11.894105</td>\n",
       "      <td>temps_de_livraison</td>\n",
       "      <td>47.149715</td>\n",
       "    </tr>\n",
       "    <tr>\n",
       "      <th>396</th>\n",
       "      <td>12.527755</td>\n",
       "      <td>temps_de_livraison</td>\n",
       "      <td>53.156304</td>\n",
       "    </tr>\n",
       "    <tr>\n",
       "      <th>397</th>\n",
       "      <td>12.467613</td>\n",
       "      <td>temps_de_livraison</td>\n",
       "      <td>52.884348</td>\n",
       "    </tr>\n",
       "    <tr>\n",
       "      <th>398</th>\n",
       "      <td>7.443458</td>\n",
       "      <td>temps_de_livraison</td>\n",
       "      <td>53.569797</td>\n",
       "    </tr>\n",
       "    <tr>\n",
       "      <th>399</th>\n",
       "      <td>11.425509</td>\n",
       "      <td>temps_de_livraison</td>\n",
       "      <td>64.372923</td>\n",
       "    </tr>\n",
       "  </tbody>\n",
       "</table>\n",
       "<p>400 rows × 3 columns</p>\n",
       "</div>"
      ],
      "text/plain": [
       "      distance            variable      value\n",
       "0    13.028525                 0.1  38.566709\n",
       "1     5.372767                 0.1   4.906025\n",
       "2     7.878491                 0.1  19.353018\n",
       "3     5.979299                 0.1   4.906025\n",
       "4     9.181638                 0.1  17.018660\n",
       "..         ...                 ...        ...\n",
       "395  11.894105  temps_de_livraison  47.149715\n",
       "396  12.527755  temps_de_livraison  53.156304\n",
       "397  12.467613  temps_de_livraison  52.884348\n",
       "398   7.443458  temps_de_livraison  53.569797\n",
       "399  11.425509  temps_de_livraison  64.372923\n",
       "\n",
       "[400 rows x 3 columns]"
      ]
     },
     "execution_count": 14,
     "metadata": {},
     "output_type": "execute_result"
    }
   ],
   "source": [
    "melted_data"
   ]
  },
  {
   "cell_type": "code",
   "execution_count": 15,
   "id": "f8100dfa",
   "metadata": {},
   "outputs": [
    {
     "data": {
      "image/png": "[encoded data removed]",
      "text/plain": [
       "<Figure size 600x400 with 1 Axes>"
      ]
     },
     "metadata": {
      "needs_background": "light"
     },
     "output_type": "display_data"
    }
   ],
   "source": [
    "plt.rcParams.update({'font.size': 10, 'figure.dpi':100})\n",
    "sns.scatterplot(data=melted_data, \n",
    "                x=\"distance\",\n",
    "                y='value',\n",
    "                hue='variable',\n",
    "                hue_order=['temps_de_livraison', '0.1', '0.5', '0.9'],\n",
    "                marker='+')\n",
    "plt.grid(linestyle='-', linewidth=0.2)\n",
    "ylabel = plt.ylabel(\"Temps (Minutes)\")\n",
    "xlabel = plt.xlabel(\"Distance (Kilomètres)\")"
   ]
  },
  {
   "cell_type": "markdown",
   "id": "b5083b22",
   "metadata": {},
   "source": [
    "#### On peux voir au final les différentes prédictions de nos quantiles 0.9 ; 0.1 ; 0.5 ."
   ]
  }
 ],
 "metadata": {
  "kernelspec": {
   "display_name": "Python 3",
   "language": "python",
   "name": "python3"
  },
  "language_info": {
   "codemirror_mode": {
    "name": "ipython",
    "version": 3
   },
   "file_extension": ".py",
   "mimetype": "text/x-python",
   "name": "python",
   "nbconvert_exporter": "python",
   "pygments_lexer": "ipython3",
   "version": "3.8.8"
  }
 },
 "nbformat": 4,
 "nbformat_minor": 5
}
